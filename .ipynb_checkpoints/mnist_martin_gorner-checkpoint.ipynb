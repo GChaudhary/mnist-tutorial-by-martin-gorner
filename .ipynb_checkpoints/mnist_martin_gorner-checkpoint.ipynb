{
 "cells": [
  {
   "cell_type": "markdown",
   "metadata": {},
   "source": [
    "# Imports\n",
    "* Dataset used - MNIST (with one-hot-encoding)\n",
    "* LOG_DIR = \"tmp/\""
   ]
  },
  {
   "cell_type": "code",
   "execution_count": 1,
   "metadata": {},
   "outputs": [
    {
     "name": "stdout",
     "output_type": "stream",
     "text": [
      "Extracting MNIST_data\\train-images-idx3-ubyte.gz\n",
      "Extracting MNIST_data\\train-labels-idx1-ubyte.gz\n",
      "Extracting MNIST_data\\t10k-images-idx3-ubyte.gz\n",
      "Extracting MNIST_data\\t10k-labels-idx1-ubyte.gz\n"
     ]
    }
   ],
   "source": [
    "import numpy as np\n",
    "import matplotlib.pyplot as plt\n",
    "%matplotlib inline\n",
    "import tensorflow as tf\n",
    "from tensorflow.examples.tutorials.mnist import input_data\n",
    "mnist = input_data.read_data_sets('MNIST_data', one_hot=True)\n",
    "LOG_DIR = \"tmp/\""
   ]
  },
  {
   "cell_type": "markdown",
   "metadata": {},
   "source": [
    "## Input and Ground-truth placeholders  \n",
    "* One image is a 784 length vector with 0's and 1's  \n",
    "* Ground-truth is a label from 0-9  \n",
    ".  \n",
    "* Y  = ground-truth  \n",
    "* Y-underscore = predicted-output"
   ]
  },
  {
   "cell_type": "code",
   "execution_count": 2,
   "metadata": {
    "collapsed": true
   },
   "outputs": [],
   "source": [
    "# Input 28-by-28 pixels images of GRAYSCALE\n",
    "X = tf.placeholder(tf.float32, [None, 784])\n",
    "# Output in 'one-hot-encoding', 10 classes\n",
    "Y_ = tf.placeholder(tf.float32, [None, 10])"
   ]
  },
  {
   "cell_type": "markdown",
   "metadata": {},
   "source": [
    "# Architecture\n",
    "* **Input-layer**[784 neurons] >> (W, b) >> **Output-layer**[10 neurons]\n",
    "* **softmax-activation** function used at output layer  \n",
    "\n",
    "### Dimensions\n",
    "* W[784, 10]  \n",
    "* b[10]  \n",
    " \n",
    "### Cost function  \n",
    "* cost = -Y*log(Y-cap)  \n",
    "  \n",
    "### Accuracy function  \n",
    "* Accuracy = (correct)/(correct + incorrect) %  "
   ]
  },
  {
   "cell_type": "code",
   "execution_count": 3,
   "metadata": {},
   "outputs": [
    {
     "data": {
      "text/plain": [
       "<tf.Tensor 'accuracy:0' shape=() dtype=string>"
      ]
     },
     "execution_count": 3,
     "metadata": {},
     "output_type": "execute_result"
    }
   ],
   "source": [
    "# model\n",
    "W = tf.Variable(tf.truncated_normal([784, 10], stddev=0.75))\n",
    "tf.summary.histogram(\"weights\", W)\n",
    "b = tf.Variable(tf.truncated_normal([10], stddev=0.5))\n",
    "tf.summary.histogram(\"biases\", b)\n",
    "# model-output\n",
    "Y = tf.nn.softmax(tf.matmul(X, W) + b)\n",
    "\n",
    "# variable-initializer\n",
    "init = tf.global_variables_initializer()\n",
    "\n",
    "# cost\n",
    "cross_entropy = -tf.reduce_sum(Y_ * tf.log(Y))\n",
    "tf.summary.scalar(\"cross_entropy\", cross_entropy)\n",
    "\n",
    "# accuracy\n",
    "is_correct = tf.equal(tf.argmax(Y, 1), tf.argmax(Y_, 1))\n",
    "accuracy = tf.reduce_mean(tf.cast(is_correct, tf.float32))\n",
    "tf.summary.scalar(\"accuracy\", accuracy)"
   ]
  },
  {
   "cell_type": "markdown",
   "metadata": {},
   "source": [
    "## Hyperparameters and train_step\n",
    "* learning_rate\n",
    "* number_of_epochs\n",
    "* batch_size"
   ]
  },
  {
   "cell_type": "code",
   "execution_count": 4,
   "metadata": {
    "collapsed": true
   },
   "outputs": [],
   "source": [
    "# hyper parameters\n",
    "learning_rate = 0.003\n",
    "n_epochs = 1000\n",
    "batch_size = 100\n",
    "\n",
    "tf.summary.scalar(\"learning_rate\", learning_rate)\n",
    "tf.summary.scalar(\"number_of_epochs\", n_epochs)\n",
    "tf.summary.scalar(\"mini_batch_size\", batch_size)\n",
    "\n",
    "\n",
    "# optimizer\n",
    "optimizer = tf.train.GradientDescentOptimizer(learning_rate)\n",
    "train_step = optimizer.minimize(cross_entropy)"
   ]
  },
  {
   "cell_type": "markdown",
   "metadata": {},
   "source": [
    "# Training\n",
    "* Mini-batch method used\n",
    "* train & test results stored separately"
   ]
  },
  {
   "cell_type": "code",
   "execution_count": 5,
   "metadata": {
    "scrolled": true
   },
   "outputs": [
    {
     "name": "stdout",
     "output_type": "stream",
     "text": [
      "Iteration:  0  complete\n",
      "Iteration:  4  complete\n",
      "Iteration:  8  complete\n",
      "Iteration:  12  complete\n",
      "Iteration:  16  complete\n",
      "Iteration:  20  complete\n",
      "Iteration:  24  complete\n",
      "Iteration:  28  complete\n",
      "Iteration:  32  complete\n",
      "Iteration:  36  complete\n",
      "Iteration:  40  complete\n",
      "Iteration:  44  complete\n",
      "Iteration:  48  complete\n",
      "Iteration:  52  complete\n",
      "Iteration:  56  complete\n",
      "Iteration:  60  complete\n",
      "Iteration:  64  complete\n",
      "Iteration:  68  complete\n",
      "Iteration:  72  complete\n",
      "Iteration:  76  complete\n",
      "Iteration:  80  complete\n",
      "Iteration:  84  complete\n",
      "Iteration:  88  complete\n",
      "Iteration:  92  complete\n",
      "Iteration:  96  complete\n",
      "Iteration:  100  complete\n",
      "Iteration:  104  complete\n",
      "Iteration:  108  complete\n",
      "Iteration:  112  complete\n",
      "Iteration:  116  complete\n",
      "Iteration:  120  complete\n",
      "Iteration:  124  complete\n",
      "Iteration:  128  complete\n",
      "Iteration:  132  complete\n",
      "Iteration:  136  complete\n",
      "Iteration:  140  complete\n",
      "Iteration:  144  complete\n",
      "Iteration:  148  complete\n",
      "Iteration:  152  complete\n",
      "Iteration:  156  complete\n",
      "Iteration:  160  complete\n",
      "Iteration:  164  complete\n",
      "Iteration:  168  complete\n",
      "Iteration:  172  complete\n",
      "Iteration:  176  complete\n",
      "Iteration:  180  complete\n",
      "Iteration:  184  complete\n",
      "Iteration:  188  complete\n",
      "Iteration:  192  complete\n",
      "Iteration:  196  complete\n",
      "Iteration:  200  complete\n",
      "Iteration:  204  complete\n",
      "Iteration:  208  complete\n",
      "Iteration:  212  complete\n",
      "Iteration:  216  complete\n",
      "Iteration:  220  complete\n",
      "Iteration:  224  complete\n",
      "Iteration:  228  complete\n",
      "Iteration:  232  complete\n",
      "Iteration:  236  complete\n",
      "Iteration:  240  complete\n",
      "Iteration:  244  complete\n",
      "Iteration:  248  complete\n",
      "Iteration:  252  complete\n",
      "Iteration:  256  complete\n",
      "Iteration:  260  complete\n",
      "Iteration:  264  complete\n",
      "Iteration:  268  complete\n",
      "Iteration:  272  complete\n",
      "Iteration:  276  complete\n",
      "Iteration:  280  complete\n",
      "Iteration:  284  complete\n",
      "Iteration:  288  complete\n",
      "Iteration:  292  complete\n",
      "Iteration:  296  complete\n",
      "Iteration:  300  complete\n",
      "Iteration:  304  complete\n",
      "Iteration:  308  complete\n",
      "Iteration:  312  complete\n",
      "Iteration:  316  complete\n",
      "Iteration:  320  complete\n",
      "Iteration:  324  complete\n",
      "Iteration:  328  complete\n",
      "Iteration:  332  complete\n",
      "Iteration:  336  complete\n",
      "Iteration:  340  complete\n",
      "Iteration:  344  complete\n",
      "Iteration:  348  complete\n",
      "Iteration:  352  complete\n",
      "Iteration:  356  complete\n",
      "Iteration:  360  complete\n",
      "Iteration:  364  complete\n",
      "Iteration:  368  complete\n",
      "Iteration:  372  complete\n",
      "Iteration:  376  complete\n",
      "Iteration:  380  complete\n",
      "Iteration:  384  complete\n",
      "Iteration:  388  complete\n",
      "Iteration:  392  complete\n",
      "Iteration:  396  complete\n",
      "Iteration:  400  complete\n",
      "Iteration:  404  complete\n",
      "Iteration:  408  complete\n",
      "Iteration:  412  complete\n",
      "Iteration:  416  complete\n",
      "Iteration:  420  complete\n",
      "Iteration:  424  complete\n",
      "Iteration:  428  complete\n",
      "Iteration:  432  complete\n",
      "Iteration:  436  complete\n",
      "Iteration:  440  complete\n",
      "Iteration:  444  complete\n",
      "Iteration:  448  complete\n",
      "Iteration:  452  complete\n",
      "Iteration:  456  complete\n",
      "Iteration:  460  complete\n",
      "Iteration:  464  complete\n",
      "Iteration:  468  complete\n",
      "Iteration:  472  complete\n",
      "Iteration:  476  complete\n",
      "Iteration:  480  complete\n",
      "Iteration:  484  complete\n",
      "Iteration:  488  complete\n",
      "Iteration:  492  complete\n",
      "Iteration:  496  complete\n",
      "Iteration:  500  complete\n",
      "Iteration:  504  complete\n",
      "Iteration:  508  complete\n",
      "Iteration:  512  complete\n",
      "Iteration:  516  complete\n",
      "Iteration:  520  complete\n",
      "Iteration:  524  complete\n",
      "Iteration:  528  complete\n",
      "Iteration:  532  complete\n",
      "Iteration:  536  complete\n",
      "Iteration:  540  complete\n",
      "Iteration:  544  complete\n",
      "Iteration:  548  complete\n",
      "Iteration:  552  complete\n",
      "Iteration:  556  complete\n",
      "Iteration:  560  complete\n",
      "Iteration:  564  complete\n",
      "Iteration:  568  complete\n",
      "Iteration:  572  complete\n",
      "Iteration:  576  complete\n",
      "Iteration:  580  complete\n",
      "Iteration:  584  complete\n",
      "Iteration:  588  complete\n",
      "Iteration:  592  complete\n",
      "Iteration:  596  complete\n",
      "Iteration:  600  complete\n",
      "Iteration:  604  complete\n",
      "Iteration:  608  complete\n",
      "Iteration:  612  complete\n",
      "Iteration:  616  complete\n",
      "Iteration:  620  complete\n",
      "Iteration:  624  complete\n",
      "Iteration:  628  complete\n",
      "Iteration:  632  complete\n",
      "Iteration:  636  complete\n",
      "Iteration:  640  complete\n",
      "Iteration:  644  complete\n",
      "Iteration:  648  complete\n",
      "Iteration:  652  complete\n",
      "Iteration:  656  complete\n",
      "Iteration:  660  complete\n",
      "Iteration:  664  complete\n",
      "Iteration:  668  complete\n",
      "Iteration:  672  complete\n",
      "Iteration:  676  complete\n",
      "Iteration:  680  complete\n",
      "Iteration:  684  complete\n",
      "Iteration:  688  complete\n",
      "Iteration:  692  complete\n",
      "Iteration:  696  complete\n",
      "Iteration:  700  complete\n",
      "Iteration:  704  complete\n",
      "Iteration:  708  complete\n",
      "Iteration:  712  complete\n",
      "Iteration:  716  complete\n",
      "Iteration:  720  complete\n",
      "Iteration:  724  complete\n",
      "Iteration:  728  complete\n",
      "Iteration:  732  complete\n",
      "Iteration:  736  complete\n",
      "Iteration:  740  complete\n",
      "Iteration:  744  complete\n",
      "Iteration:  748  complete\n",
      "Iteration:  752  complete\n",
      "Iteration:  756  complete\n",
      "Iteration:  760  complete\n",
      "Iteration:  764  complete\n",
      "Iteration:  768  complete\n",
      "Iteration:  772  complete\n",
      "Iteration:  776  complete\n",
      "Iteration:  780  complete\n",
      "Iteration:  784  complete\n",
      "Iteration:  788  complete\n",
      "Iteration:  792  complete\n",
      "Iteration:  796  complete\n",
      "Iteration:  800  complete\n",
      "Iteration:  804  complete\n",
      "Iteration:  808  complete\n",
      "Iteration:  812  complete\n",
      "Iteration:  816  complete\n",
      "Iteration:  820  complete\n",
      "Iteration:  824  complete\n",
      "Iteration:  828  complete\n",
      "Iteration:  832  complete\n",
      "Iteration:  836  complete\n",
      "Iteration:  840  complete\n",
      "Iteration:  844  complete\n",
      "Iteration:  848  complete\n",
      "Iteration:  852  complete\n",
      "Iteration:  856  complete\n",
      "Iteration:  860  complete\n",
      "Iteration:  864  complete\n",
      "Iteration:  868  complete\n",
      "Iteration:  872  complete\n",
      "Iteration:  876  complete\n",
      "Iteration:  880  complete\n",
      "Iteration:  884  complete\n",
      "Iteration:  888  complete\n",
      "Iteration:  892  complete\n",
      "Iteration:  896  complete\n",
      "Iteration:  900  complete\n",
      "Iteration:  904  complete\n",
      "Iteration:  908  complete\n",
      "Iteration:  912  complete\n",
      "Iteration:  916  complete\n",
      "Iteration:  920  complete\n",
      "Iteration:  924  complete\n",
      "Iteration:  928  complete\n",
      "Iteration:  932  complete\n",
      "Iteration:  936  complete\n",
      "Iteration:  940  complete\n",
      "Iteration:  944  complete\n",
      "Iteration:  948  complete\n",
      "Iteration:  952  complete\n",
      "Iteration:  956  complete\n",
      "Iteration:  960  complete\n",
      "Iteration:  964  complete\n",
      "Iteration:  968  complete\n",
      "Iteration:  972  complete\n",
      "Iteration:  976  complete\n",
      "Iteration:  980  complete\n",
      "Iteration:  984  complete\n",
      "Iteration:  988  complete\n",
      "Iteration:  992  complete\n",
      "Iteration:  996  complete\n"
     ]
    }
   ],
   "source": [
    "# training\n",
    "sess = tf.InteractiveSession()\n",
    "sess.run(init)\n",
    "summaries = tf.summary.merge_all()\n",
    "train_writer = tf.summary.FileWriter(LOG_DIR + \"train\", graph=tf.get_default_graph())\n",
    "test_writer = tf.summary.FileWriter(LOG_DIR + \"test\", graph=tf.get_default_graph())\n",
    "\n",
    "for i in range(n_epochs):\n",
    "    # feed train-data\n",
    "    batch_X, batch_Y = mnist.train.next_batch(batch_size)\n",
    "    train_data = {X: batch_X, Y_: batch_Y}\n",
    "    \n",
    "    summ, _ = sess.run([summaries, train_step], feed_dict=train_data)\n",
    "    train_writer.add_summary(summ, global_step=i)\n",
    "    \n",
    "    # feed test-data\n",
    "    test_data = {X: mnist.test.images, Y_: mnist.test.labels}\n",
    "    \n",
    "    summ = sess.run(summaries, feed_dict=test_data)\n",
    "    test_writer.add_summary(summ, global_step=i)\n",
    "    \n",
    "    # print\n",
    "    if i%4 == 0:\n",
    "        print (\"Iteration: \", i, \" complete\")"
   ]
  },
  {
   "cell_type": "code",
   "execution_count": null,
   "metadata": {
    "collapsed": true
   },
   "outputs": [],
   "source": []
  },
  {
   "cell_type": "code",
   "execution_count": null,
   "metadata": {
    "collapsed": true
   },
   "outputs": [],
   "source": []
  },
  {
   "cell_type": "code",
   "execution_count": null,
   "metadata": {
    "collapsed": true
   },
   "outputs": [],
   "source": []
  },
  {
   "cell_type": "code",
   "execution_count": null,
   "metadata": {
    "collapsed": true
   },
   "outputs": [],
   "source": []
  },
  {
   "cell_type": "code",
   "execution_count": null,
   "metadata": {
    "collapsed": true
   },
   "outputs": [],
   "source": []
  },
  {
   "cell_type": "code",
   "execution_count": null,
   "metadata": {
    "collapsed": true
   },
   "outputs": [],
   "source": []
  },
  {
   "cell_type": "code",
   "execution_count": null,
   "metadata": {
    "collapsed": true
   },
   "outputs": [],
   "source": []
  },
  {
   "cell_type": "code",
   "execution_count": null,
   "metadata": {
    "collapsed": true
   },
   "outputs": [],
   "source": []
  },
  {
   "cell_type": "code",
   "execution_count": null,
   "metadata": {
    "collapsed": true
   },
   "outputs": [],
   "source": []
  }
 ],
 "metadata": {
  "kernelspec": {
   "display_name": "Python 3",
   "language": "python",
   "name": "python3"
  },
  "language_info": {
   "codemirror_mode": {
    "name": "ipython",
    "version": 3
   },
   "file_extension": ".py",
   "mimetype": "text/x-python",
   "name": "python",
   "nbconvert_exporter": "python",
   "pygments_lexer": "ipython3",
   "version": "3.5.3"
  }
 },
 "nbformat": 4,
 "nbformat_minor": 2
}
